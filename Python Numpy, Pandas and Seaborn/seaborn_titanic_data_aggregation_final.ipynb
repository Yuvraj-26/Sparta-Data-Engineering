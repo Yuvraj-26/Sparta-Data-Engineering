{
 "cells": [
  {
   "cell_type": "code",
   "execution_count": 32,
   "id": "dffe2f8b",
   "metadata": {},
   "outputs": [],
   "source": [
    "import numpy as np\n",
    "import pandas as pd\n",
    "# Seaborn is a Python data visualization library based on matplotlib. \n",
    "import seaborn as sns\n",
    "import matplotlib.pyplot as plt"
   ]
  },
  {
   "cell_type": "code",
   "execution_count": 33,
   "id": "5133c61a",
   "metadata": {},
   "outputs": [],
   "source": [
    "# load titanic dataset\n",
    "titanic = sns.load_dataset('titanic')"
   ]
  },
  {
   "cell_type": "markdown",
   "id": "e2c78b84",
   "metadata": {},
   "source": [
    "<span style=\"color:royalblue; font-size: 20px;\">Data Cleaning</span>"
   ]
  },
  {
   "cell_type": "code",
   "execution_count": 34,
   "id": "2d3c70a2",
   "metadata": {},
   "outputs": [
    {
     "data": {
      "text/html": [
       "<div>\n",
       "<style scoped>\n",
       "    .dataframe tbody tr th:only-of-type {\n",
       "        vertical-align: middle;\n",
       "    }\n",
       "\n",
       "    .dataframe tbody tr th {\n",
       "        vertical-align: top;\n",
       "    }\n",
       "\n",
       "    .dataframe thead th {\n",
       "        text-align: right;\n",
       "    }\n",
       "</style>\n",
       "<table border=\"1\" class=\"dataframe\">\n",
       "  <thead>\n",
       "    <tr style=\"text-align: right;\">\n",
       "      <th></th>\n",
       "      <th>survived</th>\n",
       "      <th>pclass</th>\n",
       "      <th>age</th>\n",
       "      <th>sibsp</th>\n",
       "      <th>parch</th>\n",
       "      <th>fare</th>\n",
       "    </tr>\n",
       "  </thead>\n",
       "  <tbody>\n",
       "    <tr>\n",
       "      <th>count</th>\n",
       "      <td>891.000000</td>\n",
       "      <td>891.000000</td>\n",
       "      <td>714.000000</td>\n",
       "      <td>891.000000</td>\n",
       "      <td>891.000000</td>\n",
       "      <td>891.000000</td>\n",
       "    </tr>\n",
       "    <tr>\n",
       "      <th>mean</th>\n",
       "      <td>0.383838</td>\n",
       "      <td>2.308642</td>\n",
       "      <td>29.699118</td>\n",
       "      <td>0.523008</td>\n",
       "      <td>0.381594</td>\n",
       "      <td>32.204208</td>\n",
       "    </tr>\n",
       "    <tr>\n",
       "      <th>std</th>\n",
       "      <td>0.486592</td>\n",
       "      <td>0.836071</td>\n",
       "      <td>14.526497</td>\n",
       "      <td>1.102743</td>\n",
       "      <td>0.806057</td>\n",
       "      <td>49.693429</td>\n",
       "    </tr>\n",
       "    <tr>\n",
       "      <th>min</th>\n",
       "      <td>0.000000</td>\n",
       "      <td>1.000000</td>\n",
       "      <td>0.420000</td>\n",
       "      <td>0.000000</td>\n",
       "      <td>0.000000</td>\n",
       "      <td>0.000000</td>\n",
       "    </tr>\n",
       "    <tr>\n",
       "      <th>25%</th>\n",
       "      <td>0.000000</td>\n",
       "      <td>2.000000</td>\n",
       "      <td>20.125000</td>\n",
       "      <td>0.000000</td>\n",
       "      <td>0.000000</td>\n",
       "      <td>7.910400</td>\n",
       "    </tr>\n",
       "    <tr>\n",
       "      <th>50%</th>\n",
       "      <td>0.000000</td>\n",
       "      <td>3.000000</td>\n",
       "      <td>28.000000</td>\n",
       "      <td>0.000000</td>\n",
       "      <td>0.000000</td>\n",
       "      <td>14.454200</td>\n",
       "    </tr>\n",
       "    <tr>\n",
       "      <th>75%</th>\n",
       "      <td>1.000000</td>\n",
       "      <td>3.000000</td>\n",
       "      <td>38.000000</td>\n",
       "      <td>1.000000</td>\n",
       "      <td>0.000000</td>\n",
       "      <td>31.000000</td>\n",
       "    </tr>\n",
       "    <tr>\n",
       "      <th>max</th>\n",
       "      <td>1.000000</td>\n",
       "      <td>3.000000</td>\n",
       "      <td>80.000000</td>\n",
       "      <td>8.000000</td>\n",
       "      <td>6.000000</td>\n",
       "      <td>512.329200</td>\n",
       "    </tr>\n",
       "  </tbody>\n",
       "</table>\n",
       "</div>"
      ],
      "text/plain": [
       "         survived      pclass         age       sibsp       parch        fare\n",
       "count  891.000000  891.000000  714.000000  891.000000  891.000000  891.000000\n",
       "mean     0.383838    2.308642   29.699118    0.523008    0.381594   32.204208\n",
       "std      0.486592    0.836071   14.526497    1.102743    0.806057   49.693429\n",
       "min      0.000000    1.000000    0.420000    0.000000    0.000000    0.000000\n",
       "25%      0.000000    2.000000   20.125000    0.000000    0.000000    7.910400\n",
       "50%      0.000000    3.000000   28.000000    0.000000    0.000000   14.454200\n",
       "75%      1.000000    3.000000   38.000000    1.000000    0.000000   31.000000\n",
       "max      1.000000    3.000000   80.000000    8.000000    6.000000  512.329200"
      ]
     },
     "execution_count": 34,
     "metadata": {},
     "output_type": "execute_result"
    }
   ],
   "source": [
    "# returns descriptive statistics\n",
    "titanic.describe()"
   ]
  },
  {
   "cell_type": "code",
   "execution_count": 35,
   "id": "2257bd0d",
   "metadata": {},
   "outputs": [
    {
     "data": {
      "text/plain": [
       "('Number of rows', {891}, 'Number of columns', {15})"
      ]
     },
     "execution_count": 35,
     "metadata": {},
     "output_type": "execute_result"
    }
   ],
   "source": [
    "# find the number of rows and columns \n",
    "num_rows, num_columns = titanic.shape\n",
    "\n",
    "(\"Number of rows\", {num_rows}, \"Number of columns\", {num_columns})"
   ]
  },
  {
   "cell_type": "code",
   "execution_count": 36,
   "id": "2cf9a123",
   "metadata": {},
   "outputs": [
    {
     "data": {
      "text/plain": [
       "survived          int64\n",
       "pclass            int64\n",
       "sex              object\n",
       "age             float64\n",
       "sibsp             int64\n",
       "parch             int64\n",
       "fare            float64\n",
       "embarked         object\n",
       "class          category\n",
       "who              object\n",
       "adult_male         bool\n",
       "deck           category\n",
       "embark_town      object\n",
       "alive            object\n",
       "alone              bool\n",
       "dtype: object"
      ]
     },
     "execution_count": 36,
     "metadata": {},
     "output_type": "execute_result"
    }
   ],
   "source": [
    "# data type of all columns in the dataframe\n",
    "data_types = titanic.dtypes\n",
    "data_types\n"
   ]
  },
  {
   "cell_type": "code",
   "execution_count": 37,
   "id": "f5c483d5",
   "metadata": {},
   "outputs": [
    {
     "name": "stdout",
     "output_type": "stream",
     "text": [
      "Missing Values:\n"
     ]
    },
    {
     "data": {
      "text/plain": [
       "survived         0\n",
       "pclass           0\n",
       "sex              0\n",
       "age            177\n",
       "sibsp            0\n",
       "parch            0\n",
       "fare             0\n",
       "embarked         2\n",
       "class            0\n",
       "who              0\n",
       "adult_male       0\n",
       "deck           688\n",
       "embark_town      2\n",
       "alive            0\n",
       "alone            0\n",
       "dtype: int64"
      ]
     },
     "execution_count": 37,
     "metadata": {},
     "output_type": "execute_result"
    }
   ],
   "source": [
    "# calculate the missing values in each column of the datase\n",
    "# isnill - creates a dataframe where cells contain true (missing) or false\n",
    "# sums the true values\n",
    "missing_values = titanic.isnull().sum()\n",
    "print(\"Missing Values:\")\n",
    "missing_values"
   ]
  },
  {
   "cell_type": "code",
   "execution_count": 38,
   "id": "d661c58c",
   "metadata": {},
   "outputs": [
    {
     "name": "stdout",
     "output_type": "stream",
     "text": [
      "Any Values:\n"
     ]
    },
    {
     "data": {
      "text/plain": [
       "survived       False\n",
       "pclass         False\n",
       "sex            False\n",
       "age             True\n",
       "sibsp          False\n",
       "parch          False\n",
       "fare           False\n",
       "embarked        True\n",
       "class          False\n",
       "who            False\n",
       "adult_male     False\n",
       "deck            True\n",
       "embark_town     True\n",
       "alive          False\n",
       "alone          False\n",
       "dtype: bool"
      ]
     },
     "execution_count": 38,
     "metadata": {},
     "output_type": "execute_result"
    }
   ],
   "source": [
    "# checks if there is atleast one true (missing) value along each column\n",
    "any_values = titanic.isnull().any()\n",
    "print(\"Any Values:\")\n",
    "any_values\n"
   ]
  },
  {
   "cell_type": "code",
   "execution_count": 39,
   "id": "99c66f9d",
   "metadata": {},
   "outputs": [
    {
     "name": "stdout",
     "output_type": "stream",
     "text": [
      "\n",
      "Duplicate Rows:\n"
     ]
    },
    {
     "data": {
      "text/plain": [
       "107"
      ]
     },
     "execution_count": 39,
     "metadata": {},
     "output_type": "execute_result"
    }
   ],
   "source": [
    "# count duplicate rows\n",
    "duplicates_count = titanic.duplicated().sum()\n",
    "print(\"\\nDuplicate Rows:\")\n",
    "duplicates_count"
   ]
  },
  {
   "cell_type": "code",
   "execution_count": 40,
   "id": "0e498978",
   "metadata": {},
   "outputs": [
    {
     "data": {
      "text/plain": [
       "<Axes: >"
      ]
     },
     "execution_count": 40,
     "metadata": {},
     "output_type": "execute_result"
    },
    {
     "data": {
      "image/png": "[encoded data removed]",
      "text/plain": [
       "<Figure size 640x480 with 2 Axes>"
      ]
     },
     "metadata": {},
     "output_type": "display_data"
    }
   ],
   "source": [
    "initial_hm = sns.heatmap(titanic.isnull(), yticklabels=False)\n",
    "initial_hm"
   ]
  },
  {
   "cell_type": "code",
   "execution_count": 41,
   "id": "2a9da393",
   "metadata": {},
   "outputs": [],
   "source": [
    "# impute / fill missing values for embarked with mode (most frequent)\n",
    "# as there are a few missing values using fillna()\n",
    "impute_embarked = titanic['embarked'].fillna(titanic['embarked'].mode()[0], inplace=True)\n",
    "impute_embark_town = titanic['embark_town'].fillna(titanic['embark_town'].mode()[0], inplace=True)\n",
    "impute_embarked\n",
    "impute_embark_town"
   ]
  },
  {
   "cell_type": "code",
   "execution_count": 42,
   "id": "0ade5253",
   "metadata": {},
   "outputs": [
    {
     "name": "stdout",
     "output_type": "stream",
     "text": [
      "Missing Values:\n"
     ]
    },
    {
     "data": {
      "text/plain": [
       "survived         0\n",
       "pclass           0\n",
       "sex              0\n",
       "age            177\n",
       "sibsp            0\n",
       "parch            0\n",
       "fare             0\n",
       "embarked         0\n",
       "class            0\n",
       "who              0\n",
       "adult_male       0\n",
       "deck           688\n",
       "embark_town      0\n",
       "alive            0\n",
       "alone            0\n",
       "dtype: int64"
      ]
     },
     "execution_count": 42,
     "metadata": {},
     "output_type": "execute_result"
    }
   ],
   "source": [
    "missing_values_1 = titanic.isnull().sum()\n",
    "print(\"Missing Values:\")\n",
    "missing_values_1"
   ]
  },
  {
   "cell_type": "code",
   "execution_count": 43,
   "id": "5e4c8915",
   "metadata": {},
   "outputs": [
    {
     "data": {
      "image/png": "[encoded data removed]",
      "text/plain": [
       "<Figure size 640x480 with 2 Axes>"
      ]
     },
     "metadata": {},
     "output_type": "display_data"
    }
   ],
   "source": [
    "hm_1 = sns.heatmap(titanic.isnull(), yticklabels=False)"
   ]
  },
  {
   "cell_type": "code",
   "execution_count": 44,
   "id": "287b38b6",
   "metadata": {},
   "outputs": [
    {
     "data": {
      "text/plain": [
       "'Percentage missing of values in the age column: 19.87%'"
      ]
     },
     "execution_count": 44,
     "metadata": {},
     "output_type": "execute_result"
    }
   ],
   "source": [
    "# calculate total rows\n",
    "total_rows = len(titanic)\n",
    "\n",
    "# get missing age count\n",
    "missing_age_values = titanic[\"age\"].isnull().sum()\n",
    "\n",
    "# find percentage missing for age column\n",
    "percentage_missing_age = (missing_age_values / total_rows) * 100\n",
    "\n",
    "f\"Percentage missing of values in the age column: {percentage_missing_age:.2f}%\"\n"
   ]
  },
  {
   "cell_type": "code",
   "execution_count": 45,
   "id": "944ad462",
   "metadata": {},
   "outputs": [],
   "source": [
    "# use caetrgories of passengers as 'man', 'woman', or 'child'\n",
    "# find mean for each individual group\n",
    "mean_age_by_group = titanic.groupby('who')['age'].mean()\n",
    "\n",
    "# fill missing values for age based on the mean age of each group\n",
    "# ensures more accuracy\n",
    "titanic['age'] = titanic.apply(\n",
    "    lambda row: mean_age_by_group[row['who']] \n",
    "    if pd.isna(row['age']) \n",
    "    else row['age'],\n",
    "    axis=1\n",
    ")"
   ]
  },
  {
   "cell_type": "code",
   "execution_count": 46,
   "id": "3ad9302f",
   "metadata": {},
   "outputs": [
    {
     "data": {
      "text/plain": [
       "'Percentage missing of values in the deck column: 77.22%'"
      ]
     },
     "execution_count": 46,
     "metadata": {},
     "output_type": "execute_result"
    }
   ],
   "source": [
    "# calculate total rows\n",
    "total_rows = len(titanic)\n",
    "\n",
    "# get missing deck count\n",
    "missing_deck_values = titanic[\"deck\"].isnull().sum()\n",
    "\n",
    "# find percentage missing\n",
    "percentage_missing_deck = (missing_deck_values / total_rows) * 100\n",
    "\n",
    "\n",
    "f\"Percentage missing of values in the deck column: {percentage_missing_deck:.2f}%\""
   ]
  },
  {
   "cell_type": "code",
   "execution_count": 47,
   "id": "4b18f0ba",
   "metadata": {},
   "outputs": [
    {
     "data": {
      "image/png": "[encoded data removed]",
      "text/plain": [
       "<Figure size 640x480 with 2 Axes>"
      ]
     },
     "metadata": {},
     "output_type": "display_data"
    }
   ],
   "source": [
    "hm_2 = sns.heatmap(titanic.isnull(), yticklabels=False)"
   ]
  },
  {
   "cell_type": "code",
   "execution_count": 48,
   "id": "afbdf365",
   "metadata": {},
   "outputs": [],
   "source": [
    "# deck has significant number of missing values and cannot be easily imputed\n",
    "# drop the deck column\n",
    "drop_deck_column = titanic.drop(columns=['deck'], inplace=True)\n",
    "drop_deck_column"
   ]
  },
  {
   "cell_type": "code",
   "execution_count": 49,
   "id": "b5bd5723",
   "metadata": {},
   "outputs": [
    {
     "name": "stdout",
     "output_type": "stream",
     "text": [
      "Missing Values:\n"
     ]
    },
    {
     "data": {
      "text/plain": [
       "survived       0\n",
       "pclass         0\n",
       "sex            0\n",
       "age            0\n",
       "sibsp          0\n",
       "parch          0\n",
       "fare           0\n",
       "embarked       0\n",
       "class          0\n",
       "who            0\n",
       "adult_male     0\n",
       "embark_town    0\n",
       "alive          0\n",
       "alone          0\n",
       "dtype: int64"
      ]
     },
     "execution_count": 49,
     "metadata": {},
     "output_type": "execute_result"
    }
   ],
   "source": [
    "missing_values_after_cleaning = titanic.isnull().sum()\n",
    "print(\"Missing Values:\")\n",
    "missing_values_after_cleaning"
   ]
  },
  {
   "cell_type": "code",
   "execution_count": 50,
   "id": "34e10d68",
   "metadata": {},
   "outputs": [
    {
     "data": {
      "text/plain": [
       "<Axes: >"
      ]
     },
     "execution_count": 50,
     "metadata": {},
     "output_type": "execute_result"
    },
    {
     "data": {
      "image/png": "[encoded data removed]",
      "text/plain": [
       "<Figure size 640x480 with 2 Axes>"
      ]
     },
     "metadata": {},
     "output_type": "display_data"
    }
   ],
   "source": [
    "# final heatmap\n",
    "final_hm = sns.heatmap(titanic.isnull(), yticklabels=False)\n",
    "final_hm"
   ]
  },
  {
   "cell_type": "code",
   "execution_count": 51,
   "id": "4c25cc55",
   "metadata": {},
   "outputs": [
    {
     "data": {
      "text/html": [
       "<div>\n",
       "<style scoped>\n",
       "    .dataframe tbody tr th:only-of-type {\n",
       "        vertical-align: middle;\n",
       "    }\n",
       "\n",
       "    .dataframe tbody tr th {\n",
       "        vertical-align: top;\n",
       "    }\n",
       "\n",
       "    .dataframe thead th {\n",
       "        text-align: right;\n",
       "    }\n",
       "</style>\n",
       "<table border=\"1\" class=\"dataframe\">\n",
       "  <thead>\n",
       "    <tr style=\"text-align: right;\">\n",
       "      <th></th>\n",
       "      <th>survived</th>\n",
       "      <th>pclass</th>\n",
       "      <th>age</th>\n",
       "      <th>sibsp</th>\n",
       "      <th>parch</th>\n",
       "      <th>fare</th>\n",
       "    </tr>\n",
       "  </thead>\n",
       "  <tbody>\n",
       "    <tr>\n",
       "      <th>count</th>\n",
       "      <td>891.000000</td>\n",
       "      <td>891.000000</td>\n",
       "      <td>891.000000</td>\n",
       "      <td>891.000000</td>\n",
       "      <td>891.000000</td>\n",
       "      <td>891.000000</td>\n",
       "    </tr>\n",
       "    <tr>\n",
       "      <th>mean</th>\n",
       "      <td>0.383838</td>\n",
       "      <td>2.308642</td>\n",
       "      <td>30.319458</td>\n",
       "      <td>0.523008</td>\n",
       "      <td>0.381594</td>\n",
       "      <td>32.204208</td>\n",
       "    </tr>\n",
       "    <tr>\n",
       "      <th>std</th>\n",
       "      <td>0.486592</td>\n",
       "      <td>0.836071</td>\n",
       "      <td>13.063839</td>\n",
       "      <td>1.102743</td>\n",
       "      <td>0.806057</td>\n",
       "      <td>49.693429</td>\n",
       "    </tr>\n",
       "    <tr>\n",
       "      <th>min</th>\n",
       "      <td>0.000000</td>\n",
       "      <td>1.000000</td>\n",
       "      <td>0.420000</td>\n",
       "      <td>0.000000</td>\n",
       "      <td>0.000000</td>\n",
       "      <td>0.000000</td>\n",
       "    </tr>\n",
       "    <tr>\n",
       "      <th>25%</th>\n",
       "      <td>0.000000</td>\n",
       "      <td>2.000000</td>\n",
       "      <td>22.000000</td>\n",
       "      <td>0.000000</td>\n",
       "      <td>0.000000</td>\n",
       "      <td>7.910400</td>\n",
       "    </tr>\n",
       "    <tr>\n",
       "      <th>50%</th>\n",
       "      <td>0.000000</td>\n",
       "      <td>3.000000</td>\n",
       "      <td>32.000000</td>\n",
       "      <td>0.000000</td>\n",
       "      <td>0.000000</td>\n",
       "      <td>14.454200</td>\n",
       "    </tr>\n",
       "    <tr>\n",
       "      <th>75%</th>\n",
       "      <td>1.000000</td>\n",
       "      <td>3.000000</td>\n",
       "      <td>35.000000</td>\n",
       "      <td>1.000000</td>\n",
       "      <td>0.000000</td>\n",
       "      <td>31.000000</td>\n",
       "    </tr>\n",
       "    <tr>\n",
       "      <th>max</th>\n",
       "      <td>1.000000</td>\n",
       "      <td>3.000000</td>\n",
       "      <td>80.000000</td>\n",
       "      <td>8.000000</td>\n",
       "      <td>6.000000</td>\n",
       "      <td>512.329200</td>\n",
       "    </tr>\n",
       "  </tbody>\n",
       "</table>\n",
       "</div>"
      ],
      "text/plain": [
       "         survived      pclass         age       sibsp       parch        fare\n",
       "count  891.000000  891.000000  891.000000  891.000000  891.000000  891.000000\n",
       "mean     0.383838    2.308642   30.319458    0.523008    0.381594   32.204208\n",
       "std      0.486592    0.836071   13.063839    1.102743    0.806057   49.693429\n",
       "min      0.000000    1.000000    0.420000    0.000000    0.000000    0.000000\n",
       "25%      0.000000    2.000000   22.000000    0.000000    0.000000    7.910400\n",
       "50%      0.000000    3.000000   32.000000    0.000000    0.000000   14.454200\n",
       "75%      1.000000    3.000000   35.000000    1.000000    0.000000   31.000000\n",
       "max      1.000000    3.000000   80.000000    8.000000    6.000000  512.329200"
      ]
     },
     "execution_count": 51,
     "metadata": {},
     "output_type": "execute_result"
    }
   ],
   "source": [
    "# returns descriptive statistics\n",
    "titanic.describe()"
   ]
  },
  {
   "cell_type": "code",
   "execution_count": 52,
   "id": "1f695fe5",
   "metadata": {},
   "outputs": [
    {
     "name": "stdout",
     "output_type": "stream",
     "text": [
      "Any Values:\n"
     ]
    },
    {
     "data": {
      "text/plain": [
       "survived       False\n",
       "pclass         False\n",
       "sex            False\n",
       "age            False\n",
       "sibsp          False\n",
       "parch          False\n",
       "fare           False\n",
       "embarked       False\n",
       "class          False\n",
       "who            False\n",
       "adult_male     False\n",
       "embark_town    False\n",
       "alive          False\n",
       "alone          False\n",
       "dtype: bool"
      ]
     },
     "execution_count": 52,
     "metadata": {},
     "output_type": "execute_result"
    }
   ],
   "source": [
    "# checks if there is atleast one true (missing) value along each column\n",
    "any_values_after_cleaning = titanic.isnull().any()\n",
    "print(\"Any Values:\")\n",
    "any_values_after_cleaning"
   ]
  },
  {
   "cell_type": "markdown",
   "id": "bab8584f",
   "metadata": {},
   "source": [
    "<span style=\"color:royalblue; font-size: 20px;\">Finding Average Fare and Age for each class</span>"
   ]
  },
  {
   "cell_type": "code",
   "execution_count": 53,
   "id": "ad55aa16",
   "metadata": {},
   "outputs": [
    {
     "data": {
      "text/html": [
       "<div>\n",
       "<style scoped>\n",
       "    .dataframe tbody tr th:only-of-type {\n",
       "        vertical-align: middle;\n",
       "    }\n",
       "\n",
       "    .dataframe tbody tr th {\n",
       "        vertical-align: top;\n",
       "    }\n",
       "\n",
       "    .dataframe thead th {\n",
       "        text-align: right;\n",
       "    }\n",
       "</style>\n",
       "<table border=\"1\" class=\"dataframe\">\n",
       "  <thead>\n",
       "    <tr style=\"text-align: right;\">\n",
       "      <th></th>\n",
       "      <th>fare</th>\n",
       "      <th>age</th>\n",
       "    </tr>\n",
       "    <tr>\n",
       "      <th>class</th>\n",
       "      <th></th>\n",
       "      <th></th>\n",
       "    </tr>\n",
       "  </thead>\n",
       "  <tbody>\n",
       "    <tr>\n",
       "      <th>First</th>\n",
       "      <td>84.154687</td>\n",
       "      <td>37.481739</td>\n",
       "    </tr>\n",
       "    <tr>\n",
       "      <th>Second</th>\n",
       "      <td>20.662183</td>\n",
       "      <td>30.061892</td>\n",
       "    </tr>\n",
       "    <tr>\n",
       "      <th>Third</th>\n",
       "      <td>13.675550</td>\n",
       "      <td>27.265160</td>\n",
       "    </tr>\n",
       "  </tbody>\n",
       "</table>\n",
       "</div>"
      ],
      "text/plain": [
       "             fare        age\n",
       "class                       \n",
       "First   84.154687  37.481739\n",
       "Second  20.662183  30.061892\n",
       "Third   13.675550  27.265160"
      ]
     },
     "execution_count": 53,
     "metadata": {},
     "output_type": "execute_result"
    }
   ],
   "source": [
    "# Group by class and calculate the mean\n",
    "average_fare_and_age = titanic.groupby('class')[['fare', 'age']].mean()\n",
    "\n",
    "# Display the result\n",
    "average_fare_and_age\n"
   ]
  },
  {
   "cell_type": "code",
   "execution_count": 54,
   "id": "46919614",
   "metadata": {},
   "outputs": [
    {
     "data": {
      "image/png": "[encoded data removed]",
      "text/plain": [
       "<Figure size 1100x500 with 1 Axes>"
      ]
     },
     "metadata": {},
     "output_type": "display_data"
    }
   ],
   "source": [
    "average_fare_and_age.plot(kind='bar', figsize=(11, 5))\n",
    "plt.title('Average Fare and Age by Class')\n",
    "plt.xlabel('Class')\n",
    "plt.ylabel('Average Value')\n",
    "plt.xticks(rotation=1)\n",
    "plt.legend([\"Average Fare\", \"Average Age\"])\n",
    "plt.show()"
   ]
  },
  {
   "cell_type": "markdown",
   "id": "dabf0187",
   "metadata": {},
   "source": [
    "<span style=\"color:royalblue; font-size: 20px;\">New column showing the fare as a percentage of total</span>"
   ]
  },
  {
   "cell_type": "code",
   "execution_count": 55,
   "id": "41255592",
   "metadata": {},
   "outputs": [
    {
     "data": {
      "text/html": [
       "<div>\n",
       "<style scoped>\n",
       "    .dataframe tbody tr th:only-of-type {\n",
       "        vertical-align: middle;\n",
       "    }\n",
       "\n",
       "    .dataframe tbody tr th {\n",
       "        vertical-align: top;\n",
       "    }\n",
       "\n",
       "    .dataframe thead th {\n",
       "        text-align: right;\n",
       "    }\n",
       "</style>\n",
       "<table border=\"1\" class=\"dataframe\">\n",
       "  <thead>\n",
       "    <tr style=\"text-align: right;\">\n",
       "      <th></th>\n",
       "      <th>class</th>\n",
       "      <th>fare</th>\n",
       "      <th>age</th>\n",
       "      <th>fare_total</th>\n",
       "      <th>fare_percentage</th>\n",
       "    </tr>\n",
       "  </thead>\n",
       "  <tbody>\n",
       "    <tr>\n",
       "      <th>0</th>\n",
       "      <td>First</td>\n",
       "      <td>84.154687</td>\n",
       "      <td>37.481739</td>\n",
       "      <td>18177.4125</td>\n",
       "      <td>0.462963</td>\n",
       "    </tr>\n",
       "    <tr>\n",
       "      <th>1</th>\n",
       "      <td>Second</td>\n",
       "      <td>20.662183</td>\n",
       "      <td>30.061892</td>\n",
       "      <td>3801.8417</td>\n",
       "      <td>0.543478</td>\n",
       "    </tr>\n",
       "    <tr>\n",
       "      <th>2</th>\n",
       "      <td>Third</td>\n",
       "      <td>13.675550</td>\n",
       "      <td>27.265160</td>\n",
       "      <td>6714.6951</td>\n",
       "      <td>0.203666</td>\n",
       "    </tr>\n",
       "  </tbody>\n",
       "</table>\n",
       "</div>"
      ],
      "text/plain": [
       "    class       fare        age  fare_total  fare_percentage\n",
       "0   First  84.154687  37.481739  18177.4125         0.462963\n",
       "1  Second  20.662183  30.061892   3801.8417         0.543478\n",
       "2   Third  13.675550  27.265160   6714.6951         0.203666"
      ]
     },
     "execution_count": 55,
     "metadata": {},
     "output_type": "execute_result"
    }
   ],
   "source": [
    "# group the data by class and calculate the sum of fare for each class\n",
    "# reset the index to convert series to dataframe so class so class is a column\n",
    "sum_of_fare_for_each_class = titanic.groupby('class')['fare'].sum().reset_index()\n",
    "\n",
    "# rename the fare column to fare_totat\n",
    "# as there is a conflict with two columns the same name\n",
    "# can use suffixes parameter\n",
    "sum_of_fare_for_each_class = sum_of_fare_for_each_class.rename(columns={'fare': 'fare_total'})\n",
    "\n",
    "# merge the average dataframe with sum dataframe to calculate the percentage\n",
    "average_fare_and_age = average_fare_and_age.merge(sum_of_fare_for_each_class, on='class')\n",
    "\n",
    "# calculate the percentage and add it as a new column\n",
    "# divide fare column in averge by fare total in merged and multiply by 100\n",
    "new_column = (average_fare_and_age['fare'] / average_fare_and_age['fare_total']) * 100\n",
    "average_fare_and_age['fare_percentage'] = new_column\n",
    "\n",
    "average_fare_and_age"
   ]
  },
  {
   "cell_type": "markdown",
   "id": "30029d0b",
   "metadata": {},
   "source": [
    "<span style=\"color:royalblue; font-size: 20px;\">Number of female survivors compared to male</span>"
   ]
  },
  {
   "cell_type": "code",
   "execution_count": 56,
   "id": "6f318265",
   "metadata": {},
   "outputs": [
    {
     "data": {
      "text/plain": [
       "('F Survivors', 233, 'M Survivors', 109)"
      ]
     },
     "execution_count": 56,
     "metadata": {},
     "output_type": "execute_result"
    }
   ],
   "source": [
    "# creates a dataframes for rows that are female and survived is true\n",
    "f_survivors = titanic[(titanic['sex'] == 'female') & (titanic['survived'] == 1)]\n",
    "m_survivors = titanic[(titanic['sex'] == 'male') & (titanic['survived'] == 1)]\n",
    "\n",
    "# count rows usig len for each\n",
    "num_female_survivors = len(f_survivors)\n",
    "num_male_survivors = len(m_survivors)\n",
    "\n",
    "(\"F Survivors\", num_female_survivors, \"M Survivors\", num_male_survivors)"
   ]
  },
  {
   "cell_type": "markdown",
   "id": "621a2033",
   "metadata": {},
   "source": [
    "<span style=\"color:royalblue; font-size: 20px;\">Interesting Insights</span>"
   ]
  },
  {
   "cell_type": "code",
   "execution_count": 57,
   "id": "b76dc8ba",
   "metadata": {},
   "outputs": [
    {
     "data": {
      "text/html": [
       "<div>\n",
       "<style scoped>\n",
       "    .dataframe tbody tr th:only-of-type {\n",
       "        vertical-align: middle;\n",
       "    }\n",
       "\n",
       "    .dataframe tbody tr th {\n",
       "        vertical-align: top;\n",
       "    }\n",
       "\n",
       "    .dataframe thead th {\n",
       "        text-align: right;\n",
       "    }\n",
       "</style>\n",
       "<table border=\"1\" class=\"dataframe\">\n",
       "  <thead>\n",
       "    <tr style=\"text-align: right;\">\n",
       "      <th></th>\n",
       "      <th>embark_town</th>\n",
       "      <th>survived</th>\n",
       "    </tr>\n",
       "  </thead>\n",
       "  <tbody>\n",
       "    <tr>\n",
       "      <th>0</th>\n",
       "      <td>Cherbourg</td>\n",
       "      <td>0.553571</td>\n",
       "    </tr>\n",
       "    <tr>\n",
       "      <th>1</th>\n",
       "      <td>Queenstown</td>\n",
       "      <td>0.389610</td>\n",
       "    </tr>\n",
       "    <tr>\n",
       "      <th>2</th>\n",
       "      <td>Southampton</td>\n",
       "      <td>0.339009</td>\n",
       "    </tr>\n",
       "  </tbody>\n",
       "</table>\n",
       "</div>"
      ],
      "text/plain": [
       "   embark_town  survived\n",
       "0    Cherbourg  0.553571\n",
       "1   Queenstown  0.389610\n",
       "2  Southampton  0.339009"
      ]
     },
     "execution_count": 57,
     "metadata": {},
     "output_type": "execute_result"
    }
   ],
   "source": [
    "# survival rate (mean) by embark town\n",
    "survival_by_embark_town = titanic.groupby('embark_town')['survived'].mean().reset_index()\n",
    "\n",
    "survival_by_embark_town"
   ]
  },
  {
   "cell_type": "code",
   "execution_count": 58,
   "id": "28c39dbb",
   "metadata": {},
   "outputs": [
    {
     "data": {
      "text/html": [
       "<div>\n",
       "<style scoped>\n",
       "    .dataframe tbody tr th:only-of-type {\n",
       "        vertical-align: middle;\n",
       "    }\n",
       "\n",
       "    .dataframe tbody tr th {\n",
       "        vertical-align: top;\n",
       "    }\n",
       "\n",
       "    .dataframe thead th {\n",
       "        text-align: right;\n",
       "    }\n",
       "</style>\n",
       "<table border=\"1\" class=\"dataframe\">\n",
       "  <thead>\n",
       "    <tr style=\"text-align: right;\">\n",
       "      <th></th>\n",
       "      <th>sex</th>\n",
       "      <th>survived</th>\n",
       "    </tr>\n",
       "  </thead>\n",
       "  <tbody>\n",
       "    <tr>\n",
       "      <th>0</th>\n",
       "      <td>female</td>\n",
       "      <td>0.742038</td>\n",
       "    </tr>\n",
       "    <tr>\n",
       "      <th>1</th>\n",
       "      <td>male</td>\n",
       "      <td>0.188908</td>\n",
       "    </tr>\n",
       "  </tbody>\n",
       "</table>\n",
       "</div>"
      ],
      "text/plain": [
       "      sex  survived\n",
       "0  female  0.742038\n",
       "1    male  0.188908"
      ]
     },
     "execution_count": 58,
     "metadata": {},
     "output_type": "execute_result"
    }
   ],
   "source": [
    "# survival rate (mean) by gender\n",
    "survival_by_gender = titanic.groupby('sex')['survived'].mean().reset_index()\n",
    "\n",
    "survival_by_gender"
   ]
  },
  {
   "cell_type": "code",
   "execution_count": 59,
   "id": "5316079d",
   "metadata": {},
   "outputs": [
    {
     "data": {
      "text/html": [
       "<div>\n",
       "<style scoped>\n",
       "    .dataframe tbody tr th:only-of-type {\n",
       "        vertical-align: middle;\n",
       "    }\n",
       "\n",
       "    .dataframe tbody tr th {\n",
       "        vertical-align: top;\n",
       "    }\n",
       "\n",
       "    .dataframe thead th {\n",
       "        text-align: right;\n",
       "    }\n",
       "</style>\n",
       "<table border=\"1\" class=\"dataframe\">\n",
       "  <thead>\n",
       "    <tr style=\"text-align: right;\">\n",
       "      <th></th>\n",
       "      <th>survived</th>\n",
       "      <th>pclass</th>\n",
       "      <th>sex</th>\n",
       "      <th>age</th>\n",
       "      <th>fare</th>\n",
       "    </tr>\n",
       "  </thead>\n",
       "  <tbody>\n",
       "    <tr>\n",
       "      <th>4</th>\n",
       "      <td>0</td>\n",
       "      <td>3</td>\n",
       "      <td>male</td>\n",
       "      <td>35.000000</td>\n",
       "      <td>8.0500</td>\n",
       "    </tr>\n",
       "    <tr>\n",
       "      <th>5</th>\n",
       "      <td>0</td>\n",
       "      <td>3</td>\n",
       "      <td>male</td>\n",
       "      <td>33.173123</td>\n",
       "      <td>8.4583</td>\n",
       "    </tr>\n",
       "    <tr>\n",
       "      <th>6</th>\n",
       "      <td>0</td>\n",
       "      <td>1</td>\n",
       "      <td>male</td>\n",
       "      <td>54.000000</td>\n",
       "      <td>51.8625</td>\n",
       "    </tr>\n",
       "    <tr>\n",
       "      <th>12</th>\n",
       "      <td>0</td>\n",
       "      <td>3</td>\n",
       "      <td>male</td>\n",
       "      <td>20.000000</td>\n",
       "      <td>8.0500</td>\n",
       "    </tr>\n",
       "    <tr>\n",
       "      <th>17</th>\n",
       "      <td>1</td>\n",
       "      <td>2</td>\n",
       "      <td>male</td>\n",
       "      <td>33.173123</td>\n",
       "      <td>13.0000</td>\n",
       "    </tr>\n",
       "  </tbody>\n",
       "</table>\n",
       "</div>"
      ],
      "text/plain": [
       "    survived  pclass   sex        age     fare\n",
       "4          0       3  male  35.000000   8.0500\n",
       "5          0       3  male  33.173123   8.4583\n",
       "6          0       1  male  54.000000  51.8625\n",
       "12         0       3  male  20.000000   8.0500\n",
       "17         1       2  male  33.173123  13.0000"
      ]
     },
     "execution_count": 59,
     "metadata": {},
     "output_type": "execute_result"
    }
   ],
   "source": [
    "# solo male passengers concat \n",
    "essential_columns = ['survived', 'pclass', 'sex', 'age', 'fare']\n",
    "\n",
    "# concatenate for male and alone\n",
    "solo_male_data = pd.concat([titanic[(titanic['who'] == 'man') & (titanic['alone'] == True)]])[essential_columns]\n",
    "\n",
    "# display first few rows\n",
    "solo_male_data.head()\n"
   ]
  },
  {
   "cell_type": "code",
   "execution_count": 60,
   "id": "35a6182b",
   "metadata": {},
   "outputs": [
    {
     "name": "stdout",
     "output_type": "stream",
     "text": [
      "    class  average_age  survival_rate\n",
      "0   First    37.481739       0.629630\n",
      "1  Second    30.061892       0.472826\n",
      "2   Third    27.265160       0.242363\n"
     ]
    }
   ],
   "source": [
    "# Calculate average age by class\n",
    "average_age_by_class = titanic.groupby('class')['age'].mean().reset_index()\n",
    "average_age_by_class = average_age_by_class.rename(columns={'age': 'average_age'})\n",
    "\n",
    "# calaculate survival by class\n",
    "survival_by_class = titanic.groupby('class')['survived'].mean().reset_index()\n",
    "survival_by_class = survival_by_class.rename(columns={'survived': 'survival_rate'})\n",
    "\n",
    "# concat both dataframes\n",
    "concat_example = pd.concat([average_age_by_class, survival_by_class['survival_rate']], axis=1)\n",
    "print(concat_example)\n"
   ]
  },
  {
   "cell_type": "code",
   "execution_count": 61,
   "id": "ad3f3e2c",
   "metadata": {
    "scrolled": false
   },
   "outputs": [
    {
     "data": {
      "image/png": "[encoded data removed]",
      "text/plain": [
       "<Figure size 1500x800 with 1 Axes>"
      ]
     },
     "metadata": {},
     "output_type": "display_data"
    },
    {
     "data": {
      "text/html": [
       "<div>\n",
       "<style scoped>\n",
       "    .dataframe tbody tr th:only-of-type {\n",
       "        vertical-align: middle;\n",
       "    }\n",
       "\n",
       "    .dataframe tbody tr th {\n",
       "        vertical-align: top;\n",
       "    }\n",
       "\n",
       "    .dataframe thead th {\n",
       "        text-align: right;\n",
       "    }\n",
       "</style>\n",
       "<table border=\"1\" class=\"dataframe\">\n",
       "  <thead>\n",
       "    <tr style=\"text-align: right;\">\n",
       "      <th></th>\n",
       "      <th>count</th>\n",
       "      <th>mean</th>\n",
       "      <th>std</th>\n",
       "      <th>min</th>\n",
       "      <th>25%</th>\n",
       "      <th>50%</th>\n",
       "      <th>75%</th>\n",
       "      <th>max</th>\n",
       "    </tr>\n",
       "    <tr>\n",
       "      <th>survived</th>\n",
       "      <th></th>\n",
       "      <th></th>\n",
       "      <th></th>\n",
       "      <th></th>\n",
       "      <th></th>\n",
       "      <th></th>\n",
       "      <th></th>\n",
       "      <th></th>\n",
       "    </tr>\n",
       "  </thead>\n",
       "  <tbody>\n",
       "    <tr>\n",
       "      <th>0</th>\n",
       "      <td>549.0</td>\n",
       "      <td>31.169758</td>\n",
       "      <td>12.493024</td>\n",
       "      <td>1.00</td>\n",
       "      <td>23.0</td>\n",
       "      <td>32.0</td>\n",
       "      <td>35.0</td>\n",
       "      <td>74.0</td>\n",
       "    </tr>\n",
       "    <tr>\n",
       "      <th>1</th>\n",
       "      <td>342.0</td>\n",
       "      <td>28.954503</td>\n",
       "      <td>13.841086</td>\n",
       "      <td>0.42</td>\n",
       "      <td>21.0</td>\n",
       "      <td>31.0</td>\n",
       "      <td>35.0</td>\n",
       "      <td>80.0</td>\n",
       "    </tr>\n",
       "  </tbody>\n",
       "</table>\n",
       "</div>"
      ],
      "text/plain": [
       "          count       mean        std   min   25%   50%   75%   max\n",
       "survived                                                           \n",
       "0         549.0  31.169758  12.493024  1.00  23.0  32.0  35.0  74.0\n",
       "1         342.0  28.954503  13.841086  0.42  21.0  31.0  35.0  80.0"
      ]
     },
     "execution_count": 61,
     "metadata": {},
     "output_type": "execute_result"
    }
   ],
   "source": [
    "# age distribution of passengers\n",
    "plt.figure(figsize=(15, 8))\n",
    "sns.histplot(data=titanic, x='age', kde=True)\n",
    "plt.title('Passengers Age Distribution of Passengers')\n",
    "plt.xlabel('Age')\n",
    "plt.ylabel('Count')\n",
    "plt.show()\n",
    "\n",
    "# calculate age dist by grouping by survived column\n",
    "# select age and get desrcibtive statistics\n",
    "# 0 did not survive, 1 survived\n",
    "age_dist = titanic.groupby('survived')['age'].describe()\n",
    "age_dist"
   ]
  },
  {
   "cell_type": "code",
   "execution_count": 62,
   "id": "75a53a41",
   "metadata": {},
   "outputs": [
    {
     "data": {
      "image/png": "[encoded data removed]",
      "text/plain": [
       "<Figure size 800x600 with 1 Axes>"
      ]
     },
     "metadata": {},
     "output_type": "display_data"
    }
   ],
   "source": [
    "# create a new column for sum of family members\n",
    "# add the number of siblings, spouses, parents, and children to calculate the total family size\n",
    "titanic['sum_of_family_members'] = titanic['sibsp'] + titanic['parch']\n",
    "\n",
    "# calculate average survival rates by family size\n",
    "average_by_family_members = titanic.groupby('sum_of_family_members')['survived'].mean().reset_index()\n",
    "\n",
    "# remove rows for 7 and 10\n",
    "average_by_family_members = average_by_family_members[(average_by_family_members['sum_of_family_members'] != 7) & (average_by_family_members['sum_of_family_members'] != 10)]\n",
    "\n",
    "# create and display the chart\n",
    "plt.figure(figsize=(8, 6))\n",
    "sns.barplot(x='sum_of_family_members', y='survived', data=average_by_family_members)\n",
    "plt.title('Average survival by sum of family members')\n",
    "plt.xlabel('Number of family members person has')\n",
    "plt.ylabel('Average survival')\n",
    "plt.show()\n"
   ]
  }
 ],
 "metadata": {
  "kernelspec": {
   "display_name": "Python 3 (ipykernel)",
   "language": "python",
   "name": "python3"
  },
  "language_info": {
   "codemirror_mode": {
    "name": "ipython",
    "version": 3
   },
   "file_extension": ".py",
   "mimetype": "text/x-python",
   "name": "python",
   "nbconvert_exporter": "python",
   "pygments_lexer": "ipython3",
   "version": "3.10.12"
  }
 },
 "nbformat": 4,
 "nbformat_minor": 5
}
